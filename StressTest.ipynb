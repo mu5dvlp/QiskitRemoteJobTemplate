{
 "cells": [
  {
   "cell_type": "markdown",
   "metadata": {},
   "source": [
    "# 設定"
   ]
  },
  {
   "cell_type": "code",
   "execution_count": null,
   "metadata": {},
   "outputs": [],
   "source": [
    "channel = \"ibm_quantum\" # ibm_cloud, ibm_quantum\n",
    "backend_name = \"ibm_osaka\"\n",
    "token=\"\" # あなたのトークンを入力してください"
   ]
  },
  {
   "cell_type": "markdown",
   "metadata": {},
   "source": [
    "# ライブラリのインポート"
   ]
  },
  {
   "cell_type": "code",
   "execution_count": null,
   "metadata": {},
   "outputs": [],
   "source": [
    "from qiskit import *\n",
    "from qiskit.visualization import plot_histogram\n",
    "from qiskit_ibm_runtime import QiskitRuntimeService, SamplerV2 as Sampler"
   ]
  },
  {
   "cell_type": "markdown",
   "metadata": {},
   "source": [
    "# 共通ロジック"
   ]
  },
  {
   "cell_type": "code",
   "execution_count": null,
   "metadata": {},
   "outputs": [],
   "source": [
    "service = QiskitRuntimeService(channel=channel, token=token)\n",
    "backend = service.backend(backend_name)\n",
    "sampler = Sampler(backend)\n",
    "\n",
    "def run_remote_job(qc):\n",
    "    qc_transpiled = transpile(qc,backend)\n",
    "    job = sampler.run([qc_transpiled])\n",
    "    result = job.result()\n",
    "    pub_result = result[0]\n",
    "    return pub_result"
   ]
  },
  {
   "cell_type": "markdown",
   "metadata": {},
   "source": [
    "# テスト"
   ]
  },
  {
   "cell_type": "markdown",
   "metadata": {},
   "source": [
    "## ケース01：直列負荷"
   ]
  },
  {
   "cell_type": "code",
   "execution_count": null,
   "metadata": {},
   "outputs": [],
   "source": [
    "# 回路作成\n",
    "qc_01 = QuantumCircuit(1,1)\n",
    "qc_01.h(0)\n",
    "for i in range(128):\n",
    "    qc_01.z(0)\n",
    "qc_01.measure_all()"
   ]
  },
  {
   "cell_type": "code",
   "execution_count": null,
   "metadata": {},
   "outputs": [],
   "source": [
    "# リモートジョブ実行\n",
    "pub_result_01 = run_remote_job(qc_01)\n",
    "counts_01 = pub_result_01.data.meas.get_counts()\n",
    "plot_histogram(counts_01)"
   ]
  },
  {
   "cell_type": "markdown",
   "metadata": {},
   "source": [
    "## ケース02：並列負荷(独立)"
   ]
  },
  {
   "cell_type": "code",
   "execution_count": null,
   "metadata": {},
   "outputs": [],
   "source": [
    "# 回路作成\n",
    "qc_02 = QuantumCircuit(16,1)\n",
    "for i in range(16):\n",
    "    qc_02.h(0)\n",
    "qc_02.measure_all()"
   ]
  },
  {
   "cell_type": "code",
   "execution_count": null,
   "metadata": {},
   "outputs": [],
   "source": [
    "# リモートジョブ実行\n",
    "pub_result_02 = run_remote_job(qc_02)\n",
    "counts_02 = pub_result_02.data.meas.get_counts()\n",
    "print(counts_02)"
   ]
  },
  {
   "cell_type": "markdown",
   "metadata": {},
   "source": [
    "## ケース03：並列負荷(エンタングル)"
   ]
  },
  {
   "cell_type": "code",
   "execution_count": null,
   "metadata": {},
   "outputs": [],
   "source": [
    "# 回路作成\n",
    "qc_03 = QuantumCircuit(16,1)\n",
    "qc_03.h(0)\n",
    "for i in range(1,16):\n",
    "    qc_03.cx(0,i)\n",
    "qc_03.measure_all()"
   ]
  },
  {
   "cell_type": "code",
   "execution_count": null,
   "metadata": {},
   "outputs": [],
   "source": [
    "# リモートジョブ実行\n",
    "pub_result_03 = run_remote_job(qc_03)\n",
    "counts_03 = pub_result_03.data.meas.get_counts()\n",
    "for item in counts_03.items():\n",
    "    print(item)"
   ]
  }
 ],
 "metadata": {
  "kernelspec": {
   "display_name": "Python 3 (ipykernel)",
   "language": "python",
   "name": "python3"
  },
  "language_info": {
   "codemirror_mode": {
    "name": "ipython",
    "version": 3
   },
   "file_extension": ".py",
   "mimetype": "text/x-python",
   "name": "python",
   "nbconvert_exporter": "python",
   "pygments_lexer": "ipython3",
   "version": "3.9.10"
  }
 },
 "nbformat": 4,
 "nbformat_minor": 2
}
